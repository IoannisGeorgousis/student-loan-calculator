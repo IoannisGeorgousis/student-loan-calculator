{
 "cells": [
  {
   "cell_type": "code",
   "execution_count": 6,
   "metadata": {},
   "outputs": [],
   "source": [
    "import matplotlib.pyplot as plt\n",
    "import numpy as np"
   ]
  },
  {
   "cell_type": "code",
   "execution_count": 196,
   "metadata": {},
   "outputs": [],
   "source": [
    "def balance(years=10, init=30000., r = 0.06, n=12, frequency = 'annually'):\n",
    "    \n",
    "    '''\n",
    "    Prints your balance for each month in years, and at the end of each year prints the total interest added to your balance\n",
    "    \n",
    "    years: number of years after graduation, default=10\n",
    "    init: initial amount of money (initial principal balance), default=30000\n",
    "    r: interest rate per year, default=0.06\n",
    "    n: compounding in a year, default=12 (monthly compounding)\n",
    "    \n",
    "    RETURNS: list of values for each year\n",
    "    '''\n",
    "    \n",
    "    \n",
    "    if frequency == 'annually':\n",
    "        # Define compounding interest function for t in years\n",
    "        def y(t):\n",
    "            return init*(1+r/n)**(n*t) \n",
    "\n",
    "        interest = []\n",
    "        balance = [init]\n",
    "\n",
    "        print('Initial Balance: ', init)\n",
    "        print('\\n')\n",
    "\n",
    "        for i in range(1, years):\n",
    "            print('Year {} interest added: {}'.format(i, int(y(i) - y(i-1))))\n",
    "            print('Start of year {} balance: {}'.format(i+1, int(y(i))))\n",
    "            print('\\n')\n",
    "\n",
    "            interest.append(y(i) - y(i-1))\n",
    "            balance.append(y(i))\n",
    "\n",
    "\n",
    "        print('Total interest added: {}'.format(int(sum(interest))))\n",
    "        return interest, balance\n",
    "    \n",
    "    \n",
    "    \n",
    "    elif frequency == 'monthly':\n",
    "        # Define compounding interest function for t in months\n",
    "        def y(t):\n",
    "            return init*(1+(r/12)/(n/12))**((n/12)*t) \n",
    "\n",
    "        interest = []\n",
    "        balance = [init]\n",
    "        a = 0\n",
    "\n",
    "        print('Initial Balance: {}{}'.format(init, u\"\\xA3\"))\n",
    "        print('\\n')\n",
    "        print('------------------------------------------------Year 1')\n",
    "\n",
    "        for i in range(1, years*12):\n",
    "            a += 1\n",
    "            if a%12 == 0:\n",
    "                print('------------------------------------------------Year {}'.format(a//12 + 1))\n",
    "                a = 0\n",
    "            if a == 0:\n",
    "                print('Month {} interest added: {}{}'.format(12, int(y(i) - y(i-1)), u\"\\xA3\"))\n",
    "            else:\n",
    "                print('Month {} interest added: {}{}'.format(a, int(y(i) - y(i-1)), u\"\\xA3\"))\n",
    "                \n",
    "            print('Start of Month {} balance: {}{}'.format(a + 1, int(y(i)), u\"\\xA3\"))\n",
    "            print('-')\n",
    "\n",
    "            interest.append(y(i) - y(i-1))\n",
    "            balance.append(y(i))\n",
    "\n",
    "\n",
    "        print('Total interest added: {}'.format(sum(interest)))\n",
    "        return interest, balance"
   ]
  },
  {
   "cell_type": "code",
   "execution_count": 187,
   "metadata": {},
   "outputs": [
    {
     "name": "stdout",
     "output_type": "stream",
     "text": [
      "Initial Balance:  19600\n",
      "\n",
      "\n",
      "Year 1 interest added: 1208\n",
      "Start of year 2 balance: 20808\n",
      "\n",
      "\n",
      "Year 2 interest added: 1283\n",
      "Start of year 3 balance: 22092\n",
      "\n",
      "\n",
      "Year 3 interest added: 1362\n",
      "Start of year 4 balance: 23454\n",
      "\n",
      "\n",
      "Year 4 interest added: 1446\n",
      "Start of year 5 balance: 24901\n",
      "\n",
      "\n",
      "Year 5 interest added: 1535\n",
      "Start of year 6 balance: 26437\n",
      "\n",
      "\n",
      "Year 6 interest added: 1630\n",
      "Start of year 7 balance: 28068\n",
      "\n",
      "\n",
      "Year 7 interest added: 1731\n",
      "Start of year 8 balance: 29799\n",
      "\n",
      "\n",
      "Year 8 interest added: 1837\n",
      "Start of year 9 balance: 31637\n",
      "\n",
      "\n",
      "Year 9 interest added: 1951\n",
      "Start of year 10 balance: 33588\n",
      "\n",
      "\n",
      "Total interest added: 13988\n"
     ]
    }
   ],
   "source": [
    "balance_monthly(10,init = 19500,  frequency = 'annually')\n",
    "\n",
    "b=1"
   ]
  },
  {
   "cell_type": "code",
   "execution_count": 192,
   "metadata": {},
   "outputs": [
    {
     "name": "stdout",
     "output_type": "stream",
     "text": [
      "Initial Balance:  19600\n",
      "\n",
      "\n",
      "Year 1 interest added: 1208\n",
      "Start of year 2 balance: 20808\n",
      "\n",
      "\n",
      "Year 2 interest added: 1283\n",
      "Start of year 3 balance: 22092\n",
      "\n",
      "\n",
      "Year 3 interest added: 1362\n",
      "Start of year 4 balance: 23454\n",
      "\n",
      "\n",
      "Year 4 interest added: 1446\n",
      "Start of year 5 balance: 24901\n",
      "\n",
      "\n",
      "Total interest added: 5301\n"
     ]
    }
   ],
   "source": [
    "balance_monthly(5,init = 19600,  frequency = 'annually')\n",
    "\n",
    "c=1"
   ]
  },
  {
   "cell_type": "code",
   "execution_count": 195,
   "metadata": {},
   "outputs": [
    {
     "name": "stdout",
     "output_type": "stream",
     "text": [
      "If you repay in year 5 instead of year 10 you will save 8687 pounds!\n"
     ]
    }
   ],
   "source": [
    "print('If you repay in year 5 instead of year 10 you will save {} pounds!'.format(13988 - 5301))\n"
   ]
  },
  {
   "cell_type": "code",
   "execution_count": null,
   "metadata": {},
   "outputs": [],
   "source": []
  }
 ],
 "metadata": {
  "kernelspec": {
   "display_name": "Python 3",
   "language": "python",
   "name": "python3"
  },
  "language_info": {
   "codemirror_mode": {
    "name": "ipython",
    "version": 3
   },
   "file_extension": ".py",
   "mimetype": "text/x-python",
   "name": "python",
   "nbconvert_exporter": "python",
   "pygments_lexer": "ipython3",
   "version": "3.7.7"
  }
 },
 "nbformat": 4,
 "nbformat_minor": 4
}
