{
 "cells": [
  {
   "cell_type": "code",
   "execution_count": 6,
   "metadata": {},
   "outputs": [],
   "source": [
    "import matplotlib.pyplot as plt\n",
    "import numpy as np"
   ]
  },
  {
   "cell_type": "code",
   "execution_count": 93,
   "metadata": {},
   "outputs": [
    {
     "name": "stdout",
     "output_type": "stream",
     "text": [
      "Initial Balance:  30000.0\n",
      "Month 1 balance: 30149.999999999996\n",
      "Month 2 balance: 30300.749999999993\n",
      "Month 3 balance: 30452.25374999999\n",
      "Month 4 balance: 30604.515018749986\n",
      "Month 5 balance: 30757.537593843732\n",
      "Month 6 balance: 30911.32528181295\n",
      "Month 7 balance: 31065.881908222014\n",
      "Month 8 balance: 31221.21131776312\n",
      "Month 9 balance: 31377.31737435193\n",
      "Month 10 balance: 31534.203961223688\n",
      "Month 11 balance: 31691.874981029803\n",
      "Initial Balance:  31850.33435593495\n",
      "Total interest added in previous year:  1850.3343559349487\n",
      "\n",
      "------------------------------------------ New Year\n",
      "Month 13 balance: 32009.58602771462\n",
      "Month 14 balance: 32169.633957853188\n",
      "Month 15 balance: 32330.48212764245\n",
      "Month 16 balance: 32492.13453828066\n",
      "Month 17 balance: 32654.595210972057\n",
      "Month 18 balance: 32817.868187026914\n",
      "Month 19 balance: 32981.95752796205\n",
      "Month 20 balance: 33146.86731560185\n",
      "Month 21 balance: 33312.60165217986\n",
      "Month 22 balance: 33479.16466044075\n",
      "Month 23 balance: 33646.56048374296\n",
      "Initial Balance:  33814.793286161665\n",
      "Total interest added in previous year:  1964.458930226716\n",
      "\n",
      "------------------------------------------ New Year\n",
      "Month 25 balance: 33983.86725259247\n",
      "Month 26 balance: 34153.78658885543\n",
      "Month 27 balance: 34324.5555217997\n",
      "Month 28 balance: 34496.1782994087\n",
      "Month 29 balance: 34668.65919090574\n",
      "Month 30 balance: 34842.00248686026\n",
      "Month 31 balance: 35016.21249929456\n",
      "Month 32 balance: 35191.29356179103\n",
      "Month 33 balance: 35367.25002959998\n",
      "Month 34 balance: 35544.08627974798\n",
      "Month 35 balance: 35721.80671114671\n",
      "Initial Balance:  35900.41574470244\n",
      "Total interest added in previous year:  2085.6224585407763\n",
      "\n",
      "------------------------------------------ New Year\n"
     ]
    }
   ],
   "source": [
    "one_year = np.linspace(0, 1, 13)\n",
    "three_year = np.linspace(0, 3, 37)\n",
    "ten_year = np.linspace(0, 10, 121)\n",
    "\n",
    "\n",
    "\n",
    "def interest_added_monthly(years):\n",
    "    months = np.linspace(0, years, years*12 + 1)\n",
    "    a = -1\n",
    "    delta = 0\n",
    "    for i in months:\n",
    "        \n",
    "        a += 1\n",
    "        if a%12 == 0:\n",
    "            print('Initial Balance: ', y(i))\n",
    "        else:\n",
    "            print('Month {} balance: {}'.format(a, y(i)))\n",
    "\n",
    "        if a%12 == 0 and a != 0:\n",
    "            \n",
    "            delta = y(months[a]) - y(months[a - 12])\n",
    "            print('Total interest added in previous year: ', delta)\n",
    "            print('\\n' + '------------------------------------------ New Year')\n",
    "            \n",
    "interest_added_monthly(3)"
   ]
  },
  {
   "cell_type": "code",
   "execution_count": 75,
   "metadata": {},
   "outputs": [],
   "source": [
    "def interest_added(years=10, init=30000, r = 0.06, n=12):\n",
    "    \n",
    "    '''\n",
    "    Computes interest added each year after graduation\n",
    "    \n",
    "    years: number of years after graduation, default=10\n",
    "    init: initial amount of money (initial principal balance), default=30000\n",
    "    r: interest rate, default=0.06\n",
    "    n: compounding per year, default=12 (monthly compounding)\n",
    "    \n",
    "    RETURNS: list of values for each year\n",
    "    '''\n",
    "    \n",
    "    def y(x):\n",
    "        return init*(1+r/12)**(12*x)\n",
    "    blabla = []\n",
    "    for i in range(1, years):\n",
    "        print('Year {} interest added: {}'.format(i, y(i) - y(i-1)))\n",
    "        \n",
    "        blabla.append(y(i) - y(i-1))\n",
    "    print('Total interest added: {}'.format(sum(blabla)))\n",
    "    return blabla"
   ]
  },
  {
   "cell_type": "code",
   "execution_count": 78,
   "metadata": {},
   "outputs": [
    {
     "name": "stdout",
     "output_type": "stream",
     "text": [
      "Year 1 interest added: 1850.3343559349487\n",
      "Year 2 interest added: 1964.458930226716\n",
      "Year 3 interest added: 2085.6224585407763\n",
      "Year 4 interest added: 2214.2590881590295\n",
      "Year 5 interest added: 2350.8297436177527\n",
      "Year 6 interest added: 2495.8237782700817\n",
      "Year 7 interest added: 2649.7607277131538\n",
      "Year 8 interest added: 2813.1921713629927\n",
      "Year 9 interest added: 2986.703708846995\n",
      "Total interest added: 21410.984962672446\n"
     ]
    }
   ],
   "source": [
    "interest_added(10)\n",
    "\n",
    "ch = 1"
   ]
  },
  {
   "cell_type": "code",
   "execution_count": null,
   "metadata": {},
   "outputs": [],
   "source": []
  }
 ],
 "metadata": {
  "kernelspec": {
   "display_name": "Python 3",
   "language": "python",
   "name": "python3"
  },
  "language_info": {
   "codemirror_mode": {
    "name": "ipython",
    "version": 3
   },
   "file_extension": ".py",
   "mimetype": "text/x-python",
   "name": "python",
   "nbconvert_exporter": "python",
   "pygments_lexer": "ipython3",
   "version": "3.7.7"
  }
 },
 "nbformat": 4,
 "nbformat_minor": 4
}
